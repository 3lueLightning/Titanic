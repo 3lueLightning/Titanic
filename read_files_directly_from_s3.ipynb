{
 "cells": [
  {
   "cell_type": "code",
   "execution_count": null,
   "metadata": {},
   "outputs": [],
   "source": [
    "import s3fs"
   ]
  },
  {
   "cell_type": "code",
   "execution_count": null,
   "metadata": {},
   "outputs": [],
   "source": [
    "fs = s3fs.S3FileSystem()\n",
    "\n",
    "f = fs.open(f'{bucket}/{key}', 'rb')\n",
    "tar = tarfile.open(f, 'r:gz')"
   ]
  },
  {
   "cell_type": "code",
   "execution_count": 1,
   "metadata": {},
   "outputs": [
    {
     "ename": "NameError",
     "evalue": "name 'PARAMETERS' is not defined",
     "output_type": "error",
     "traceback": [
      "\u001b[0;31m---------------------------------------------------------------------------\u001b[0m",
      "\u001b[0;31mNameError\u001b[0m                                 Traceback (most recent call last)",
      "\u001b[0;32m<ipython-input-1-795c742e8d98>\u001b[0m in \u001b[0;36m<module>\u001b[0;34m()\u001b[0m\n\u001b[1;32m      1\u001b[0m \u001b[0mmodel_name\u001b[0m \u001b[0;34m=\u001b[0m \u001b[0;34m'xgboost-2019-07-15-00-44-13-095'\u001b[0m\u001b[0;34m\u001b[0m\u001b[0m\n\u001b[0;32m----> 2\u001b[0;31m \u001b[0mmodel_path\u001b[0m \u001b[0;34m=\u001b[0m \u001b[0;34mf's3://{PARAMETERS[\"bucket_name\"]}/xgboost_model_sdk/{model_name}/output/model.tar.gz'\u001b[0m\u001b[0;34m\u001b[0m\u001b[0m\n\u001b[0m\u001b[1;32m      3\u001b[0m \u001b[0;31m#with tarfile.open(model_location) as tar:\u001b[0m\u001b[0;34m\u001b[0m\u001b[0;34m\u001b[0m\u001b[0m\n\u001b[1;32m      4\u001b[0m \u001b[0;31m#    tar.extractall()\u001b[0m\u001b[0;34m\u001b[0m\u001b[0;34m\u001b[0m\u001b[0m\n\u001b[1;32m      5\u001b[0m \u001b[0mfs\u001b[0m \u001b[0;34m=\u001b[0m \u001b[0ms3fs\u001b[0m\u001b[0;34m.\u001b[0m\u001b[0mS3FileSystem\u001b[0m\u001b[0;34m(\u001b[0m\u001b[0;34m)\u001b[0m\u001b[0;34m\u001b[0m\u001b[0m\n",
      "\u001b[0;31mNameError\u001b[0m: name 'PARAMETERS' is not defined"
     ]
    }
   ],
   "source": [
    "model_name = 'xgboost-2019-07-15-00-44-13-095'\n",
    "model_path = f's3://{PARAMETERS[\"bucket_name\"]}/xgboost_model_sdk/{model_name}/output/model.tar.gz'\n",
    "#with tarfile.open(model_location) as tar:\n",
    "#    tar.extractall()\n",
    "fs = s3fs.S3FileSystem()\n",
    "with fs.open(model_path, 'rb') as model_file:\n",
    "    \"\"\"\n",
    "    print( model_file)\n",
    "    model_file.extractall('model')\n",
    "    tt = model_file.read()\n",
    "    xgb_model = pickle.loads(tt)\n",
    "    \"\"\"\n",
    "    tar = tarfile.open(model_file, 'r:gz')\n",
    "    tar.getmembers()"
   ]
  },
  {
   "cell_type": "code",
   "execution_count": null,
   "metadata": {
    "collapsed": true
   },
   "outputs": [],
   "source": [
    "import boto3\n",
    "from io import StringIO #BytesIO\n",
    "s3 = boto3.client('s3') \n",
    "tt = BytesIO(s3.get_object(Bucket=PARAMETERS[\"bucket_name\"]\n",
    "                           , Key=f'xgboost_model_sdk/{model_name}/output/model.tar.gz')['Body'].read())"
   ]
  },
  {
   "cell_type": "code",
   "execution_count": null,
   "metadata": {},
   "outputs": [],
   "source": [
    "with tarfile.open(fileobj=tt, mode='r:gz') as tar:\n",
    "    print( tar.getmembers()[0])\n",
    "    print( tar.extractfile(tar.getmembers()[0]))\n",
    "    tt1 = tar.extractfile(tar.getmembers()[0]).read()\n",
    "    #print(tt1)\n",
    "    tt2 = BytesIO(tt1)\n",
    "    model = pickle.load( tt2 )"
   ]
  }
 ],
 "metadata": {
  "kernelspec": {
   "display_name": "conda_python3",
   "language": "python",
   "name": "conda_python3"
  },
  "language_info": {
   "codemirror_mode": {
    "name": "ipython",
    "version": 3
   },
   "file_extension": ".py",
   "mimetype": "text/x-python",
   "name": "python",
   "nbconvert_exporter": "python",
   "pygments_lexer": "ipython3",
   "version": "3.6.5"
  }
 },
 "nbformat": 4,
 "nbformat_minor": 2
}
